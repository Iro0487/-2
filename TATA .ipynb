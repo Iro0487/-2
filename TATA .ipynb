{
 "cells": [
  {
   "cell_type": "markdown",
   "metadata": {},
   "source": [
    "# Stock Prices Prediction Using Keras Long Term Short Memory\n",
    "\n",
    "https://github.com/mwitiderrick/stockprice\n",
    "\n",
    "https://www.kdnuggets.com/2018/11/keras-long-short-term-memory-lstm-model-predict-stock-prices.html"
   ]
  },
  {
   "cell_type": "code",
   "execution_count": 1,
   "metadata": {
    "ExecuteTime": {
     "end_time": "2023-06-02T06:22:50.788767Z",
     "start_time": "2023-06-02T06:22:49.784437Z"
    }
   },
   "outputs": [],
   "source": [
    "# Part 1 - Data Preprocessing\n",
    "\n",
    "# Importing the libraries\n",
    "import numpy as np\n",
    "import matplotlib.pyplot as plt\n",
    "import pandas as pd"
   ]
  },
  {
   "cell_type": "code",
   "execution_count": 2,
   "metadata": {
    "ExecuteTime": {
     "end_time": "2023-06-02T06:22:51.461966Z",
     "start_time": "2023-06-02T06:22:51.395143Z"
    }
   },
   "outputs": [],
   "source": [
    "# Importing the training set\n",
    "dataset_train = pd.read_csv('NSE-TATAGLOBAL.csv')\n",
    "training_set = dataset_train.iloc[:, 1:2].values"
   ]
  },
  {
   "cell_type": "code",
   "execution_count": 3,
   "metadata": {
    "ExecuteTime": {
     "end_time": "2023-06-02T06:22:58.921647Z",
     "start_time": "2023-06-02T06:22:58.886740Z"
    },
    "scrolled": false
   },
   "outputs": [
    {
     "data": {
      "text/html": [
       "<div>\n",
       "<style scoped>\n",
       "    .dataframe tbody tr th:only-of-type {\n",
       "        vertical-align: middle;\n",
       "    }\n",
       "\n",
       "    .dataframe tbody tr th {\n",
       "        vertical-align: top;\n",
       "    }\n",
       "\n",
       "    .dataframe thead th {\n",
       "        text-align: right;\n",
       "    }\n",
       "</style>\n",
       "<table border=\"1\" class=\"dataframe\">\n",
       "  <thead>\n",
       "    <tr style=\"text-align: right;\">\n",
       "      <th></th>\n",
       "      <th>Date</th>\n",
       "      <th>Open</th>\n",
       "      <th>High</th>\n",
       "      <th>Low</th>\n",
       "      <th>Last</th>\n",
       "      <th>Close</th>\n",
       "      <th>Total Trade Quantity</th>\n",
       "      <th>Turnover (Lacs)</th>\n",
       "    </tr>\n",
       "  </thead>\n",
       "  <tbody>\n",
       "    <tr>\n",
       "      <th>0</th>\n",
       "      <td>2018-09-28</td>\n",
       "      <td>234.05</td>\n",
       "      <td>235.95</td>\n",
       "      <td>230.20</td>\n",
       "      <td>233.50</td>\n",
       "      <td>233.75</td>\n",
       "      <td>3069914</td>\n",
       "      <td>7162.35</td>\n",
       "    </tr>\n",
       "    <tr>\n",
       "      <th>1</th>\n",
       "      <td>2018-09-27</td>\n",
       "      <td>234.55</td>\n",
       "      <td>236.80</td>\n",
       "      <td>231.10</td>\n",
       "      <td>233.80</td>\n",
       "      <td>233.25</td>\n",
       "      <td>5082859</td>\n",
       "      <td>11859.95</td>\n",
       "    </tr>\n",
       "    <tr>\n",
       "      <th>2</th>\n",
       "      <td>2018-09-26</td>\n",
       "      <td>240.00</td>\n",
       "      <td>240.00</td>\n",
       "      <td>232.50</td>\n",
       "      <td>235.00</td>\n",
       "      <td>234.25</td>\n",
       "      <td>2240909</td>\n",
       "      <td>5248.60</td>\n",
       "    </tr>\n",
       "    <tr>\n",
       "      <th>3</th>\n",
       "      <td>2018-09-25</td>\n",
       "      <td>233.30</td>\n",
       "      <td>236.75</td>\n",
       "      <td>232.00</td>\n",
       "      <td>236.25</td>\n",
       "      <td>236.10</td>\n",
       "      <td>2349368</td>\n",
       "      <td>5503.90</td>\n",
       "    </tr>\n",
       "    <tr>\n",
       "      <th>4</th>\n",
       "      <td>2018-09-24</td>\n",
       "      <td>233.55</td>\n",
       "      <td>239.20</td>\n",
       "      <td>230.75</td>\n",
       "      <td>234.00</td>\n",
       "      <td>233.30</td>\n",
       "      <td>3423509</td>\n",
       "      <td>7999.55</td>\n",
       "    </tr>\n",
       "  </tbody>\n",
       "</table>\n",
       "</div>"
      ],
      "text/plain": [
       "         Date    Open    High     Low    Last   Close  Total Trade Quantity  \\\n",
       "0  2018-09-28  234.05  235.95  230.20  233.50  233.75               3069914   \n",
       "1  2018-09-27  234.55  236.80  231.10  233.80  233.25               5082859   \n",
       "2  2018-09-26  240.00  240.00  232.50  235.00  234.25               2240909   \n",
       "3  2018-09-25  233.30  236.75  232.00  236.25  236.10               2349368   \n",
       "4  2018-09-24  233.55  239.20  230.75  234.00  233.30               3423509   \n",
       "\n",
       "   Turnover (Lacs)  \n",
       "0          7162.35  \n",
       "1         11859.95  \n",
       "2          5248.60  \n",
       "3          5503.90  \n",
       "4          7999.55  "
      ]
     },
     "execution_count": 3,
     "metadata": {},
     "output_type": "execute_result"
    }
   ],
   "source": [
    "dataset_train.head()"
   ]
  },
  {
   "cell_type": "code",
   "execution_count": 4,
   "metadata": {
    "ExecuteTime": {
     "end_time": "2023-06-02T06:23:01.542699Z",
     "start_time": "2023-06-02T06:23:00.184307Z"
    }
   },
   "outputs": [],
   "source": [
    "# Feature Scaling\n",
    "from sklearn.preprocessing import MinMaxScaler\n",
    "sc = MinMaxScaler(feature_range = (0, 1))\n",
    "training_set_scaled = sc.fit_transform(training_set)"
   ]
  },
  {
   "cell_type": "code",
   "execution_count": 5,
   "metadata": {
    "ExecuteTime": {
     "end_time": "2023-06-02T06:23:01.557657Z",
     "start_time": "2023-06-02T06:23:01.544692Z"
    }
   },
   "outputs": [
    {
     "data": {
      "text/plain": [
       "array([[0.6202352 , 0.62226277, 0.64436334, ..., 0.79622871, 0.81062449,\n",
       "        0.74371452],\n",
       "       [0.62226277, 0.64436334, 0.61719384, ..., 0.81062449, 0.74371452,\n",
       "        0.77007299],\n",
       "       [0.64436334, 0.61719384, 0.61820762, ..., 0.74371452, 0.77007299,\n",
       "        0.73641525],\n",
       "       ...,\n",
       "       [0.19870235, 0.21796431, 0.21553122, ..., 0.14963504, 0.14801298,\n",
       "        0.15815085],\n",
       "       [0.21796431, 0.21553122, 0.20600162, ..., 0.14801298, 0.15815085,\n",
       "        0.16504461],\n",
       "       [0.21553122, 0.20600162, 0.21654501, ..., 0.15815085, 0.16504461,\n",
       "        0.15896188]])"
      ]
     },
     "execution_count": 5,
     "metadata": {},
     "output_type": "execute_result"
    }
   ],
   "source": [
    "# Creating a data structure with 60 timesteps and 1 output\n",
    "X_train = []\n",
    "y_train = []\n",
    "for i in range(60, 2035):\n",
    "    X_train.append(training_set_scaled[i-60:i, 0])\n",
    "    y_train.append(training_set_scaled[i, 0])\n",
    "X_train, y_train = np.array(X_train), np.array(y_train)\n",
    "X_train"
   ]
  },
  {
   "cell_type": "code",
   "execution_count": 6,
   "metadata": {
    "ExecuteTime": {
     "end_time": "2023-06-02T06:23:02.695625Z",
     "start_time": "2023-06-02T06:23:02.683657Z"
    }
   },
   "outputs": [
    {
     "data": {
      "text/plain": [
       "array([[[0.6202352 ],\n",
       "        [0.62226277],\n",
       "        [0.64436334],\n",
       "        ...,\n",
       "        [0.79622871],\n",
       "        [0.81062449],\n",
       "        [0.74371452]],\n",
       "\n",
       "       [[0.62226277],\n",
       "        [0.64436334],\n",
       "        [0.61719384],\n",
       "        ...,\n",
       "        [0.81062449],\n",
       "        [0.74371452],\n",
       "        [0.77007299]],\n",
       "\n",
       "       [[0.64436334],\n",
       "        [0.61719384],\n",
       "        [0.61820762],\n",
       "        ...,\n",
       "        [0.74371452],\n",
       "        [0.77007299],\n",
       "        [0.73641525]],\n",
       "\n",
       "       ...,\n",
       "\n",
       "       [[0.19870235],\n",
       "        [0.21796431],\n",
       "        [0.21553122],\n",
       "        ...,\n",
       "        [0.14963504],\n",
       "        [0.14801298],\n",
       "        [0.15815085]],\n",
       "\n",
       "       [[0.21796431],\n",
       "        [0.21553122],\n",
       "        [0.20600162],\n",
       "        ...,\n",
       "        [0.14801298],\n",
       "        [0.15815085],\n",
       "        [0.16504461]],\n",
       "\n",
       "       [[0.21553122],\n",
       "        [0.20600162],\n",
       "        [0.21654501],\n",
       "        ...,\n",
       "        [0.15815085],\n",
       "        [0.16504461],\n",
       "        [0.15896188]]])"
      ]
     },
     "execution_count": 6,
     "metadata": {},
     "output_type": "execute_result"
    }
   ],
   "source": [
    "# Reshaping\n",
    "X_train = np.reshape(X_train, (X_train.shape[0], X_train.shape[1], 1))\n",
    "X_train"
   ]
  },
  {
   "cell_type": "code",
   "execution_count": 7,
   "metadata": {
    "ExecuteTime": {
     "end_time": "2023-06-02T06:23:09.855601Z",
     "start_time": "2023-06-02T06:23:03.335923Z"
    }
   },
   "outputs": [],
   "source": [
    "# Part 2 - Building the RNN\n",
    "\n",
    "# Importing the Keras libraries and packages\n",
    "from keras.models import Sequential\n",
    "from keras.layers import Dense\n",
    "from keras.layers import LSTM\n",
    "from keras.layers import Dropout"
   ]
  },
  {
   "cell_type": "code",
   "execution_count": 8,
   "metadata": {
    "ExecuteTime": {
     "end_time": "2023-06-02T06:23:10.274985Z",
     "start_time": "2023-06-02T06:23:09.857595Z"
    }
   },
   "outputs": [],
   "source": [
    "# Initialising the RNN\n",
    "regressor = Sequential()\n",
    "\n",
    "# Adding the first LSTM layer and some Dropout regularisation\n",
    "regressor.add(LSTM(units = 50, return_sequences = True, input_shape = (X_train.shape[1], 1)))\n",
    "regressor.add(Dropout(0.2))"
   ]
  },
  {
   "cell_type": "code",
   "execution_count": 9,
   "metadata": {
    "ExecuteTime": {
     "end_time": "2023-06-02T06:23:11.352608Z",
     "start_time": "2023-06-02T06:23:11.158129Z"
    }
   },
   "outputs": [],
   "source": [
    "# Adding a second LSTM layer and some Dropout regularisation\n",
    "regressor.add(LSTM(units = 50, return_sequences = True))\n",
    "regressor.add(Dropout(0.2))"
   ]
  },
  {
   "cell_type": "code",
   "execution_count": 10,
   "metadata": {
    "ExecuteTime": {
     "end_time": "2023-06-02T06:23:12.132550Z",
     "start_time": "2023-06-02T06:23:11.940063Z"
    }
   },
   "outputs": [],
   "source": [
    "\n",
    "# Adding a third LSTM layer and some Dropout regularisation\n",
    "regressor.add(LSTM(units = 50, return_sequences = True))\n",
    "regressor.add(Dropout(0.2))"
   ]
  },
  {
   "cell_type": "code",
   "execution_count": 11,
   "metadata": {
    "ExecuteTime": {
     "end_time": "2023-06-02T06:23:12.791300Z",
     "start_time": "2023-06-02T06:23:12.600809Z"
    }
   },
   "outputs": [],
   "source": [
    "# Adding a fourth LSTM layer and some Dropout regularisation\n",
    "regressor.add(LSTM(units = 50))\n",
    "regressor.add(Dropout(0.2))\n"
   ]
  },
  {
   "cell_type": "code",
   "execution_count": 12,
   "metadata": {
    "ExecuteTime": {
     "end_time": "2023-06-02T06:23:13.301473Z",
     "start_time": "2023-06-02T06:23:13.294492Z"
    }
   },
   "outputs": [
    {
     "name": "stdout",
     "output_type": "stream",
     "text": [
      "(1975, 60, 1)\n"
     ]
    }
   ],
   "source": [
    "print(X_train.shape)"
   ]
  },
  {
   "cell_type": "code",
   "execution_count": 13,
   "metadata": {
    "ExecuteTime": {
     "end_time": "2023-06-02T06:23:13.976693Z",
     "start_time": "2023-06-02T06:23:13.963727Z"
    }
   },
   "outputs": [
    {
     "name": "stdout",
     "output_type": "stream",
     "text": [
      "(1975,)\n"
     ]
    }
   ],
   "source": [
    "print(y_train.shape)"
   ]
  },
  {
   "cell_type": "code",
   "execution_count": 14,
   "metadata": {
    "ExecuteTime": {
     "end_time": "2023-06-02T06:28:30.577495Z",
     "start_time": "2023-06-02T06:23:14.972535Z"
    }
   },
   "outputs": [
    {
     "name": "stdout",
     "output_type": "stream",
     "text": [
      "Epoch 1/100\n",
      "62/62 [==============================] - 9s 49ms/step - loss: 0.0109\n",
      "Epoch 2/100\n",
      "62/62 [==============================] - 3s 48ms/step - loss: 0.0030\n",
      "Epoch 3/100\n",
      "62/62 [==============================] - 3s 49ms/step - loss: 0.0030\n",
      "Epoch 4/100\n",
      "62/62 [==============================] - 3s 51ms/step - loss: 0.0025\n",
      "Epoch 5/100\n",
      "62/62 [==============================] - 3s 51ms/step - loss: 0.0026\n",
      "Epoch 6/100\n",
      "62/62 [==============================] - 3s 49ms/step - loss: 0.0020\n",
      "Epoch 7/100\n",
      "62/62 [==============================] - 3s 48ms/step - loss: 0.0021\n",
      "Epoch 8/100\n",
      "62/62 [==============================] - 3s 49ms/step - loss: 0.0022\n",
      "Epoch 9/100\n",
      "62/62 [==============================] - 3s 48ms/step - loss: 0.0021\n",
      "Epoch 10/100\n",
      "62/62 [==============================] - 3s 55ms/step - loss: 0.0021\n",
      "Epoch 11/100\n",
      "62/62 [==============================] - 3s 53ms/step - loss: 0.0020\n",
      "Epoch 12/100\n",
      "62/62 [==============================] - 3s 50ms/step - loss: 0.0017\n",
      "Epoch 13/100\n",
      "62/62 [==============================] - 3s 49ms/step - loss: 0.0017\n",
      "Epoch 14/100\n",
      "62/62 [==============================] - 3s 50ms/step - loss: 0.0016\n",
      "Epoch 15/100\n",
      "62/62 [==============================] - 3s 49ms/step - loss: 0.0018\n",
      "Epoch 16/100\n",
      "62/62 [==============================] - 3s 49ms/step - loss: 0.0016\n",
      "Epoch 17/100\n",
      "62/62 [==============================] - 3s 52ms/step - loss: 0.0018\n",
      "Epoch 18/100\n",
      "62/62 [==============================] - 3s 51ms/step - loss: 0.0015\n",
      "Epoch 19/100\n",
      "62/62 [==============================] - 3s 53ms/step - loss: 0.0015\n",
      "Epoch 20/100\n",
      "62/62 [==============================] - 3s 49ms/step - loss: 0.0012\n",
      "Epoch 21/100\n",
      "62/62 [==============================] - 3s 48ms/step - loss: 0.0013\n",
      "Epoch 22/100\n",
      "62/62 [==============================] - 3s 49ms/step - loss: 0.0014\n",
      "Epoch 23/100\n",
      "62/62 [==============================] - 3s 51ms/step - loss: 0.0014\n",
      "Epoch 24/100\n",
      "62/62 [==============================] - 3s 49ms/step - loss: 0.0014\n",
      "Epoch 25/100\n",
      "62/62 [==============================] - 3s 50ms/step - loss: 0.0012\n",
      "Epoch 26/100\n",
      "62/62 [==============================] - 3s 51ms/step - loss: 0.0012\n",
      "Epoch 27/100\n",
      "62/62 [==============================] - 3s 49ms/step - loss: 0.0012\n",
      "Epoch 28/100\n",
      "62/62 [==============================] - 3s 50ms/step - loss: 0.0012\n",
      "Epoch 29/100\n",
      "62/62 [==============================] - 3s 50ms/step - loss: 0.0013\n",
      "Epoch 30/100\n",
      "62/62 [==============================] - 3s 51ms/step - loss: 0.0011\n",
      "Epoch 31/100\n",
      "62/62 [==============================] - 3s 50ms/step - loss: 0.0012\n",
      "Epoch 32/100\n",
      "62/62 [==============================] - 3s 50ms/step - loss: 9.8306e-04\n",
      "Epoch 33/100\n",
      "62/62 [==============================] - 3s 50ms/step - loss: 0.0011\n",
      "Epoch 34/100\n",
      "62/62 [==============================] - 3s 51ms/step - loss: 0.0010\n",
      "Epoch 35/100\n",
      "62/62 [==============================] - 3s 50ms/step - loss: 9.3666e-04\n",
      "Epoch 36/100\n",
      "62/62 [==============================] - 3s 50ms/step - loss: 9.8659e-04\n",
      "Epoch 37/100\n",
      "62/62 [==============================] - 3s 50ms/step - loss: 0.0014\n",
      "Epoch 38/100\n",
      "62/62 [==============================] - 3s 49ms/step - loss: 0.0011\n",
      "Epoch 39/100\n",
      "62/62 [==============================] - 3s 49ms/step - loss: 9.3253e-04\n",
      "Epoch 40/100\n",
      "62/62 [==============================] - 3s 50ms/step - loss: 9.3936e-04\n",
      "Epoch 41/100\n",
      "62/62 [==============================] - 3s 48ms/step - loss: 0.0010\n",
      "Epoch 42/100\n",
      "62/62 [==============================] - 3s 49ms/step - loss: 8.9638e-04\n",
      "Epoch 43/100\n",
      "62/62 [==============================] - 3s 48ms/step - loss: 8.4846e-04\n",
      "Epoch 44/100\n",
      "62/62 [==============================] - 3s 49ms/step - loss: 8.6740e-04\n",
      "Epoch 45/100\n",
      "62/62 [==============================] - 3s 49ms/step - loss: 9.2820e-04\n",
      "Epoch 46/100\n",
      "62/62 [==============================] - 3s 49ms/step - loss: 0.0010\n",
      "Epoch 47/100\n",
      "62/62 [==============================] - 3s 48ms/step - loss: 7.9858e-04\n",
      "Epoch 48/100\n",
      "62/62 [==============================] - 3s 49ms/step - loss: 8.5202e-04\n",
      "Epoch 49/100\n",
      "62/62 [==============================] - 3s 50ms/step - loss: 7.4377e-04\n",
      "Epoch 50/100\n",
      "62/62 [==============================] - 3s 52ms/step - loss: 8.0303e-04\n",
      "Epoch 51/100\n",
      "62/62 [==============================] - 3s 50ms/step - loss: 7.9875e-04\n",
      "Epoch 52/100\n",
      "62/62 [==============================] - 3s 49ms/step - loss: 8.6090e-04\n",
      "Epoch 53/100\n",
      "62/62 [==============================] - 3s 49ms/step - loss: 8.5067e-04\n",
      "Epoch 54/100\n",
      "62/62 [==============================] - 3s 49ms/step - loss: 7.9829e-04\n",
      "Epoch 55/100\n",
      "62/62 [==============================] - 3s 52ms/step - loss: 8.2593e-04\n",
      "Epoch 56/100\n",
      "62/62 [==============================] - 3s 49ms/step - loss: 7.2189e-04\n",
      "Epoch 57/100\n",
      "62/62 [==============================] - 3s 51ms/step - loss: 9.1313e-04\n",
      "Epoch 58/100\n",
      "62/62 [==============================] - 3s 52ms/step - loss: 9.5073e-04\n",
      "Epoch 59/100\n",
      "62/62 [==============================] - 3s 52ms/step - loss: 7.6990e-04\n",
      "Epoch 60/100\n",
      "62/62 [==============================] - 3s 50ms/step - loss: 7.4210e-04\n",
      "Epoch 61/100\n",
      "62/62 [==============================] - 3s 51ms/step - loss: 6.4293e-04\n",
      "Epoch 62/100\n",
      "62/62 [==============================] - 3s 49ms/step - loss: 7.5956e-04\n",
      "Epoch 63/100\n",
      "62/62 [==============================] - 3s 50ms/step - loss: 7.3929e-04\n",
      "Epoch 64/100\n",
      "62/62 [==============================] - 3s 51ms/step - loss: 7.0403e-04\n",
      "Epoch 65/100\n",
      "62/62 [==============================] - 3s 49ms/step - loss: 8.3640e-04\n",
      "Epoch 66/100\n",
      "62/62 [==============================] - 3s 51ms/step - loss: 7.7911e-04\n",
      "Epoch 67/100\n",
      "62/62 [==============================] - 3s 51ms/step - loss: 8.9754e-04\n",
      "Epoch 68/100\n",
      "62/62 [==============================] - 3s 56ms/step - loss: 8.1753e-04\n",
      "Epoch 69/100\n",
      "62/62 [==============================] - 3s 50ms/step - loss: 7.1004e-04\n",
      "Epoch 70/100\n",
      "62/62 [==============================] - 3s 50ms/step - loss: 7.1059e-04\n",
      "Epoch 71/100\n",
      "62/62 [==============================] - 3s 48ms/step - loss: 7.6911e-04\n",
      "Epoch 72/100\n",
      "62/62 [==============================] - 3s 50ms/step - loss: 6.5956e-04\n",
      "Epoch 73/100\n",
      "62/62 [==============================] - 3s 51ms/step - loss: 8.5989e-04\n",
      "Epoch 74/100\n",
      "62/62 [==============================] - 3s 54ms/step - loss: 7.3024e-04\n",
      "Epoch 75/100\n",
      "62/62 [==============================] - 3s 48ms/step - loss: 7.2028e-04\n",
      "Epoch 76/100\n",
      "62/62 [==============================] - 3s 48ms/step - loss: 6.8688e-04\n",
      "Epoch 77/100\n",
      "62/62 [==============================] - 3s 49ms/step - loss: 6.5353e-04\n",
      "Epoch 78/100\n",
      "62/62 [==============================] - 3s 48ms/step - loss: 6.7703e-04\n",
      "Epoch 79/100\n",
      "62/62 [==============================] - 3s 48ms/step - loss: 7.0272e-04\n",
      "Epoch 80/100\n",
      "62/62 [==============================] - 3s 49ms/step - loss: 6.4614e-04\n",
      "Epoch 81/100\n",
      "62/62 [==============================] - 3s 48ms/step - loss: 6.7115e-04\n",
      "Epoch 82/100\n",
      "62/62 [==============================] - 3s 48ms/step - loss: 6.4003e-04\n",
      "Epoch 83/100\n",
      "62/62 [==============================] - 3s 47ms/step - loss: 6.3423e-04\n",
      "Epoch 84/100\n",
      "62/62 [==============================] - 3s 51ms/step - loss: 5.9861e-04\n",
      "Epoch 85/100\n",
      "62/62 [==============================] - 3s 52ms/step - loss: 5.9256e-04\n",
      "Epoch 86/100\n",
      "62/62 [==============================] - 3s 53ms/step - loss: 6.6285e-04\n",
      "Epoch 87/100\n",
      "62/62 [==============================] - 3s 50ms/step - loss: 6.7071e-04\n",
      "Epoch 88/100\n",
      "62/62 [==============================] - 3s 49ms/step - loss: 8.3913e-04\n",
      "Epoch 89/100\n",
      "62/62 [==============================] - 3s 48ms/step - loss: 6.1952e-04\n",
      "Epoch 90/100\n",
      "62/62 [==============================] - 3s 48ms/step - loss: 7.4530e-04\n",
      "Epoch 91/100\n",
      "62/62 [==============================] - 3s 47ms/step - loss: 6.6818e-04\n",
      "Epoch 92/100\n",
      "62/62 [==============================] - 3s 48ms/step - loss: 5.9044e-04\n",
      "Epoch 93/100\n",
      "62/62 [==============================] - 3s 48ms/step - loss: 6.6193e-04\n",
      "Epoch 94/100\n",
      "62/62 [==============================] - 3s 47ms/step - loss: 6.0914e-04\n",
      "Epoch 95/100\n",
      "62/62 [==============================] - 3s 49ms/step - loss: 6.5706e-04\n",
      "Epoch 96/100\n",
      "62/62 [==============================] - 3s 49ms/step - loss: 7.0409e-04\n",
      "Epoch 97/100\n",
      "62/62 [==============================] - 3s 50ms/step - loss: 6.3263e-04\n",
      "Epoch 98/100\n"
     ]
    },
    {
     "name": "stdout",
     "output_type": "stream",
     "text": [
      "62/62 [==============================] - 3s 53ms/step - loss: 5.4302e-04\n",
      "Epoch 99/100\n",
      "62/62 [==============================] - 4s 59ms/step - loss: 5.9903e-04\n",
      "Epoch 100/100\n",
      "62/62 [==============================] - 4s 61ms/step - loss: 5.5955e-04\n"
     ]
    },
    {
     "data": {
      "text/plain": [
       "<keras.callbacks.History at 0x1cca3ba8520>"
      ]
     },
     "execution_count": 14,
     "metadata": {},
     "output_type": "execute_result"
    }
   ],
   "source": [
    "# Adding the output layer\n",
    "regressor.add(Dense(units = 1))\n",
    "\n",
    "# Compiling the RNN\n",
    "regressor.compile(optimizer = 'adam', loss = 'mean_squared_error')\n",
    "\n",
    "# Fitting the RNN to the Training set\n",
    "regressor.fit(X_train, y_train, epochs = 100, batch_size = 32)\n",
    "\n"
   ]
  },
  {
   "cell_type": "code",
   "execution_count": 26,
   "metadata": {
    "ExecuteTime": {
     "end_time": "2023-06-02T07:52:25.133897Z",
     "start_time": "2023-06-02T07:52:25.114947Z"
    }
   },
   "outputs": [],
   "source": [
    "# Part 3 - Making the predictions and visualising the results\n",
    "\n",
    "# Getting the real stock price of 2017\n",
    "dataset_test = pd.read_csv('tatatest.csv')\n",
    "real_stock_price = dataset_test.iloc[:, 1:2].values"
   ]
  },
  {
   "cell_type": "code",
   "execution_count": 27,
   "metadata": {
    "ExecuteTime": {
     "end_time": "2023-06-02T07:52:27.050295Z",
     "start_time": "2023-06-02T07:52:25.686436Z"
    }
   },
   "outputs": [
    {
     "name": "stdout",
     "output_type": "stream",
     "text": [
      "1/1 [==============================] - 1s 1s/step\n"
     ]
    }
   ],
   "source": [
    "# Getting the predicted stock price of 2017\n",
    "dataset_total = pd.concat((dataset_train['Open'], dataset_test['Open']), axis = 0)\n",
    "inputs = dataset_total[len(dataset_total) - len(dataset_test) - 60:].values\n",
    "inputs = inputs.reshape(-1,1)\n",
    "inputs = sc.transform(inputs)\n",
    "X_test = []\n",
    "for i in range(60, 76):\n",
    "    X_test.append(inputs[i-60:i, 0])\n",
    "X_test = np.array(X_test)\n",
    "X_test = np.reshape(X_test, (X_test.shape[0], X_test.shape[1], 1))\n",
    "predicted_stock_price = regressor.predict(X_test)\n",
    "predicted_stock_price = sc.inverse_transform(predicted_stock_price)\n"
   ]
  },
  {
   "cell_type": "code",
   "execution_count": 28,
   "metadata": {
    "ExecuteTime": {
     "end_time": "2023-06-02T07:52:27.948402Z",
     "start_time": "2023-06-02T07:52:27.936434Z"
    }
   },
   "outputs": [
    {
     "data": {
      "text/plain": [
       "(16, 60, 1)"
      ]
     },
     "execution_count": 28,
     "metadata": {},
     "output_type": "execute_result"
    }
   ],
   "source": [
    "X_test.shape"
   ]
  },
  {
   "cell_type": "code",
   "execution_count": 29,
   "metadata": {
    "ExecuteTime": {
     "end_time": "2023-06-02T07:52:28.966699Z",
     "start_time": "2023-06-02T07:52:28.750278Z"
    }
   },
   "outputs": [
    {
     "data": {
      "image/png": "[encoded data removed]",
      "text/plain": [
       "<Figure size 640x480 with 1 Axes>"
      ]
     },
     "metadata": {},
     "output_type": "display_data"
    }
   ],
   "source": [
    "# Visualising the results\n",
    "plt.plot(real_stock_price, color = 'red', label = 'Real TATA Stock Price')\n",
    "plt.plot(predicted_stock_price, color = 'blue', label = 'Predicted TAT Stock Price')\n",
    "plt.title('TATA Stock Price Prediction')\n",
    "plt.xlabel('Time')\n",
    "plt.ylabel('TATA Stock Price')\n",
    "plt.legend()\n",
    "plt.show()"
   ]
  },
  {
   "cell_type": "code",
   "execution_count": 49,
   "metadata": {
    "ExecuteTime": {
     "end_time": "2023-06-02T09:15:51.923717Z",
     "start_time": "2023-06-02T09:15:51.903264Z"
    }
   },
   "outputs": [
    {
     "data": {
      "text/plain": [
       "array([[120.122246],\n",
       "       [182.33359 ],\n",
       "       [217.62723 ],\n",
       "       [223.57901 ],\n",
       "       [219.61107 ],\n",
       "       [222.0816  ],\n",
       "       [225.14877 ],\n",
       "       [222.5742  ],\n",
       "       [219.12523 ],\n",
       "       [211.30907 ],\n",
       "       [207.96498 ],\n",
       "       [208.01126 ],\n",
       "       [203.84654 ],\n",
       "       [206.75562 ],\n",
       "       [212.92194 ],\n",
       "       [219.14667 ]], dtype=float32)"
      ]
     },
     "execution_count": 49,
     "metadata": {},
     "output_type": "execute_result"
    }
   ],
   "source": [
    "predicted_stock_price"
   ]
  },
  {
   "cell_type": "code",
   "execution_count": null,
   "metadata": {},
   "outputs": [],
   "source": []
  }
 ],
 "metadata": {
  "kernelspec": {
   "display_name": "Python 3 (ipykernel)",
   "language": "python",
   "name": "python3"
  },
  "language_info": {
   "codemirror_mode": {
    "name": "ipython",
    "version": 3
   },
   "file_extension": ".py",
   "mimetype": "text/x-python",
   "name": "python",
   "nbconvert_exporter": "python",
   "pygments_lexer": "ipython3",
   "version": "3.9.16"
  }
 },
 "nbformat": 4,
 "nbformat_minor": 2
}
